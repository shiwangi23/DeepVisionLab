{
  "nbformat": 4,
  "nbformat_minor": 0,
  "metadata": {
    "colab": {
      "name": "Dog Breed Prediction.ipynb",
      "provenance": [],
      "collapsed_sections": []
    },
    "kernelspec": {
      "display_name": "Python 3",
      "name": "python3"
    }
  },
  "cells": [
    {
      "cell_type": "markdown",
      "metadata": {
        "id": "XAmObrEQvp9_"
      },
      "source": [
        ""
    },
    {
      "cell_type": "markdown",
      "metadata": {
        "id": "dFONdRncx8Cr"
      },
      "source": [
        "## Dog Breed Prediction"
      ]
    },
    {
      "cell_type": "markdown",
      "metadata": {
        "id": "MQoHS1rtx4xJ"
      },
      "source": [
        "In this project, we will see how to use Keras and TensorFlow to build, train, and test a Convolutional Neural Network capable of identifying the breed of a dog in a supplied image. This is a supervised learning problem, specifically a multiclass classification problem."
      ]
    },
    {
      "cell_type": "code",
      "metadata": {
        "id": "IJfUukN_kiEx"
      },
      "source": [
        "# Run this cell and select the kaggle.json file downloaded\r\n",
        "# from the Kaggle account settings page.\r\n",
        "from google.colab import files\r\n",
        "files.upload()"
      ],
      "execution_count": null,
      "outputs": []
    },
    {
      "cell_type": "markdown",
      "metadata": {
        "id": "t3qAYHiDC_Z-"
      },
      "source": [
        "We will start by connecting to Kaggle using Kaggle API which can be downloaded from your Kaggle account's settings and uploading it here(upload box)."
      ]
    },
    {
      "cell_type": "code",
      "metadata": {
        "id": "m34QitafPDd5"
      },
      "source": [
        "# Next, install the Kaggle API client.\r\n",
        "!pip install -q kaggle"
      ],
      "execution_count": null,
      "outputs": []
    },
    {
      "cell_type": "markdown",
      "metadata": {
        "id": "gtVmkwlDC96u"
      },
      "source": [
        "Next we will install Kaggle API using pip installation."
      ]
    },
    {
      "cell_type": "code",
      "metadata": {
        "id": "1js5PPVFPm-P"
      },
      "source": [
        "# The Kaggle API client expects this file to be in ~/.kaggle, so move it there.\r\n",
        "!mkdir -p ~/.kaggle\r\n",
        "!cp kaggle.json ~/.kaggle/\r\n",
        "\r\n",
        "# This permissions change avoids a warning on Kaggle tool startup.\r\n",
        "!chmod 600 ~/.kaggle/kaggle.json"
      ],
      "execution_count": null,
      "outputs": []
    },
    {
      "cell_type": "markdown",
      "metadata": {
        "id": "jieIhBTXEO5B"
      },
      "source": [
        "Setting up Kaggle using Kaggle API."
      ]
    },
    {
      "cell_type": "code",
      "metadata": {
        "id": "F7hxbrceg3bC"
      },
      "source": [
        "# Creating directory and changing the current working directory\r\n",
        "!mkdir dog_dataset\r\n",
        "%cd dog_dataset"
      ],
      "execution_count": null,
      "outputs": []
    },
    {
      "cell_type": "markdown",
      "metadata": {
        "id": "wDLPCNfIEapm"
      },
      "source": [
        "To store the data we will create a new directory and make it as current working directory."
      ]
    },
    {
      "cell_type": "code",
      "metadata": {
        "id": "wi9hi_O7vEC-"
      },
      "source": [
        "# Searching for dataset\r\n",
        "!kaggle datasets list -s dogbreedidfromcomp"
      ],
      "execution_count": null,
      "outputs": []
    },
    {
      "cell_type": "markdown",
      "metadata": {
        "id": "YCyzo_vDEsrA"
      },
      "source": [
        "Searching Kaggle for the required dataset using search option(-s) with title 'dogbreedidfromcomp'. We can also use different search options like searching competitions, notebooks, kernels, datasets, etc."
      ]
    },
    {
      "cell_type": "code",
      "metadata": {
        "id": "7U0drGHjfPyY"
      },
      "source": [
        "# Downloading dataset and coming out of directory\r\n",
        "!kaggle datasets download catherinehorng/dogbreedidfromcomp\r\n",
        "%cd .."
      ],
      "execution_count": null,
      "outputs": []
    },
    {
      "cell_type": "markdown",
      "metadata": {
        "id": "VzkFPAFdFVPv"
      },
      "source": [
        "After searching the data next step would be downloading the data into collab notebook using references found in search option."
      ]
    },
    {
      "cell_type": "code",
      "metadata": {
        "id": "_G_S6-F1Qs-U"
      },
      "source": [
        "# Unzipping downloaded file and removing unusable file\r\n",
        "!unzip dog_dataset/dogbreedidfromcomp.zip -d dog_dataset\r\n",
        "!rm dog_dataset/dogbreedidfromcomp.zip\r\n",
        "!rm dog_dataset/sample_submission.csv"
      ],
      "execution_count": null,
      "outputs": []
    },
    {
      "cell_type": "markdown",
      "metadata": {
        "id": "CPJvJVrUF3bK"
      },
      "source": [
        "We will unzip the data which is downloaded and remove the irrelevant files. "
      ]
    },
    {
      "cell_type": "code",
      "metadata": {
        "id": "Ko_oKFfpvj8A"
      },
      "source": [
        "# Important library imports\r\n",
        "import numpy as np \r\n",
        "import pandas as pd \r\n",
        "import matplotlib.pyplot as plt\r\n",
        "\r\n",
        "from tqdm import tqdm\r\n",
        "from keras.preprocessing import image\r\n",
        "from sklearn.preprocessing import label_binarize\r\n",
        "from sklearn.model_selection import train_test_split\r\n",
        "from keras.models import Sequential\r\n",
        "from keras.layers import Dense, Dropout, Flatten, Conv2D, MaxPool2D\r\n",
        "from keras.optimizers import Adam"
      ],
      "execution_count": null,
      "outputs": []
    },
    {
      "cell_type": "markdown",
      "metadata": {
        "id": "K83AVkzUGFQP"
      },
      "source": [
        "Importing required libraries."
      ]
    },
    {
      "cell_type": "code",
      "metadata": {
        "id": "vrZIWCO4wEFn"
      },
      "source": [
        "# Read the labels.csv file and checking shape and records\r\n",
        "labels_all = pd.read_csv(\"dog_dataset/labels.csv\")\r\n",
        "print(labels_all.shape)\r\n",
        "labels_all.head()"
      ],
      "execution_count": null,
      "outputs": []
    },
    {
      "cell_type": "markdown",
      "metadata": {
        "id": "K5myFXEQGRPD"
      },
      "source": [
        "Loading the labels data into dataframe and viewing it. Here we analysed that labels contains 10222 rows and 2 columns.  "
      ]
    },
    {
      "cell_type": "code",
      "metadata": {
        "id": "xgoPji7ywRjX"
      },
      "source": [
        "# Visualize the number of each breeds\r\n",
        "breeds_all = labels_all[\"breed\"]\r\n",
        "breed_counts = breeds_all.value_counts()\r\n",
        "breed_counts.head()"
      ],
      "execution_count": null,
      "outputs": []
    },
    {
      "cell_type": "markdown",
      "metadata": {
        "id": "iM5bMsyPGyKe"
      },
      "source": [
        "Here we are finding out the count per class i.e. total data in each class using value_counts() function."
      ]
    },
    {
      "cell_type": "code",
      "metadata": {
        "id": "2J7x-UVxwVs6"
      },
      "source": [
        "# Selecting first 3 breeds (Limitation due to computation power)\r\n",
        "CLASS_NAMES = ['scottish_deerhound','maltese_dog','bernese_mountain_dog']\r\n",
        "labels = labels_all[(labels_all['breed'].isin(CLASS_NAMES))]\r\n",
        "labels = labels.reset_index()\r\n",
        "labels.head()"
      ],
      "execution_count": null,
      "outputs": []
    },
    {
      "cell_type": "markdown",
      "metadata": {
        "id": "Ft9w6t5LHOrO"
      },
      "source": [
        "We will work on only 3 breeds due to limited computational power. You can consider more classes as per your system computational power."
      ]
    },
    {
      "cell_type": "code",
      "metadata": {
        "id": "vR0_yYY9w_y8"
      },
      "source": [
        "# Creating numpy matrix with zeros\r\n",
        "X_data = np.zeros((len(labels), 224, 224, 3), dtype='float32')\r\n",
        "# One hot encoding\r\n",
        "Y_data = label_binarize(labels['breed'], classes = CLASS_NAMES)\r\n",
        "\r\n",
        "# Reading and converting image to numpy array and normalizing dataset\r\n",
        "for i in tqdm(range(len(labels))):\r\n",
        "    img = image.load_img('dog_dataset/train/%s.jpg' % labels['id'][i], target_size=(224, 224))\r\n",
        "    img = image.img_to_array(img)\r\n",
        "    x = np.expand_dims(img.copy(), axis=0)\r\n",
        "    X_data[i] = x / 255.0\r\n",
        "    \r\n",
        "# Printing train image and one hot encode shape & size\r\n",
        "print('\\nTrain Images shape: ',X_data.shape,' size: {:,}'.format(X_data.size))\r\n",
        "print('One-hot encoded output shape: ',Y_data.shape,' size: {:,}'.format(Y_data.size))"
      ],
      "execution_count": null,
      "outputs": []
    },
    {
      "cell_type": "markdown",
      "metadata": {
        "id": "md38GlW9H0hM"
      },
      "source": [
        "As we are working with the classification dataset first we need to one hot encode the target value i.e. the classes. After that we will read images and convert them into numpy array and finally normalizing the array."
      ]
    },
    {
      "cell_type": "code",
      "metadata": {
        "id": "3Xvd5r4MxcLJ"
      },
      "source": [
        "# Building the Model\r\n",
        "model = Sequential()\r\n",
        "\r\n",
        "model.add(Conv2D(filters = 64, kernel_size = (5,5), activation ='relu', input_shape = (224,224,3)))\r\n",
        "model.add(MaxPool2D(pool_size=(2,2)))\r\n",
        "\r\n",
        "model.add(Conv2D(filters = 32, kernel_size = (3,3), activation ='relu', kernel_regularizer = 'l2'))\r\n",
        "model.add(MaxPool2D(pool_size=(2,2)))\r\n",
        "\r\n",
        "model.add(Conv2D(filters = 16, kernel_size = (7,7), activation ='relu', kernel_regularizer = 'l2'))\r\n",
        "model.add(MaxPool2D(pool_size=(2,2)))\r\n",
        "\r\n",
        "model.add(Conv2D(filters = 8, kernel_size = (5,5), activation ='relu', kernel_regularizer = 'l2'))\r\n",
        "model.add(MaxPool2D(pool_size=(2,2)))\r\n",
        "\r\n",
        "model.add(Flatten())\r\n",
        "model.add(Dense(128, activation = \"relu\", kernel_regularizer = 'l2'))\r\n",
        "model.add(Dense(64, activation = \"relu\", kernel_regularizer = 'l2'))\r\n",
        "model.add(Dense(len(CLASS_NAMES), activation = \"softmax\"))\r\n",
        "\r\n",
        "model.compile(loss = 'categorical_crossentropy', optimizer = Adam(0.0001),metrics=['accuracy'])\r\n",
        "\r\n",
        "model.summary()"
      ],
      "execution_count": null,
      "outputs": []
    },
    {
      "cell_type": "markdown",
      "metadata": {
        "id": "f3KpqhclJEi-"
      },
      "source": [
        "Next we will create a network architecture for the model. We have used different types of layers according to their features namely Conv_2d (It is used to create a convolutional kernel that is convolved with the input layer to produce the output tensor), max_pooling2d (It is a downsampling technique which takes out the maximum value over the window defined by poolsize), flatten (It flattens the input and creates a 1D output), Dense (Dense layer produce the output as the dot product of input and kernel).\r\n"
      ]
    },
    {
      "cell_type": "markdown",
      "metadata": {
        "id": "uFqLiTKqMXWM"
      },
      "source": [
        "After defining the network architecture we found out the total parameters as 162,619."
      ]
    },
    {
      "cell_type": "code",
      "metadata": {
        "id": "z2OwiYRrxxJ_"
      },
      "source": [
        "# Splitting the data set into training and testing data sets\r\n",
        "X_train_and_val, X_test, Y_train_and_val, Y_test = train_test_split(X_data, Y_data, test_size = 0.1)\r\n",
        "# Splitting the training data set into training and validation data sets\r\n",
        "X_train, X_val, Y_train, Y_val = train_test_split(X_train_and_val, Y_train_and_val, test_size = 0.2)"
      ],
      "execution_count": null,
      "outputs": []
    },
    {
      "cell_type": "markdown",
      "metadata": {
        "id": "pwYpekxrJZRr"
      },
      "source": [
        "After defining the network architecture we will start with splitting the test and train data then dividing train data in train and validation data. "
      ]
    },
    {
      "cell_type": "code",
      "metadata": {
        "id": "Kzq2hLsGyFTr"
      },
      "source": [
        "# Training the model\r\n",
        "epochs = 100\r\n",
        "batch_size = 128\r\n",
        "\r\n",
        "history = model.fit(X_train, Y_train, batch_size = batch_size, epochs = epochs, \r\n",
        "                    validation_data = (X_val, Y_val))"
      ],
      "execution_count": null,
      "outputs": []
    },
    {
      "cell_type": "markdown",
      "metadata": {
        "id": "YSFnRyfKJv4a"
      },
      "source": [
        "Now we will train our model on 100 epochs and a batch size of 128. You can try using more number of epochs to increase accuracy. During each epochs we can see how the model is performing by viewing the training and validation accuracy."
      ]
    },
    {
      "cell_type": "code",
      "metadata": {
        "id": "BvK8_JKKyLJJ"
      },
      "source": [
        "# Plot the training history\r\n",
        "plt.figure(figsize=(12, 5))\r\n",
        "plt.plot(history.history['accuracy'], color='r')\r\n",
        "plt.plot(history.history['val_accuracy'], color='b')\r\n",
        "plt.title('Model Accuracy')\r\n",
        "plt.ylabel('Accuracy')\r\n",
        "plt.xlabel('Epochs')\r\n",
        "plt.legend(['train', 'val'])\r\n",
        "\r\n",
        "plt.show()"
      ],
      "execution_count": null,
      "outputs": []
    },
    {
      "cell_type": "markdown",
      "metadata": {
        "id": "CkfvA9XyNVtU"
      },
      "source": [
        "Here we analyse how the model is learning with each epoch in terms of accuracy."
      ]
    },
    {
      "cell_type": "code",
      "metadata": {
        "id": "xXpyaiyeykly"
      },
      "source": [
        "Y_pred = model.predict(X_test)\r\n",
        "score = model.evaluate(X_test, Y_test)\r\n",
        "print('Accuracy over the test set: \\n ', round((score[1]*100), 2), '%')"
      ],
      "execution_count": null,
      "outputs": []
    },
    {
      "cell_type": "markdown",
      "metadata": {
        "id": "rkbtSrubNj3C"
      },
      "source": [
        "We will use predict function to make predictions using this model also we are finding out the accuracy on the test set."
      ]
    },
    {
      "cell_type": "code",
      "metadata": {
        "id": "nY-jB9t5ylME"
      },
      "source": [
        "# Plotting image to compare\r\n",
        "plt.imshow(X_test[1,:,:,:])\r\n",
        "plt.show()\r\n",
        "\r\n",
        "# Finding max value from predition list and comaparing original value vs predicted\r\n",
        "print(\"Originally : \",labels['breed'][np.argmax(Y_test[1])])\r\n",
        "print(\"Predicted : \",labels['breed'][np.argmax(Y_pred[1])])"
      ],
      "execution_count": null,
      "outputs": []
    },
    {
      "cell_type": "markdown",
      "metadata": {
        "id": "bZgi683JOYcT"
      },
      "source": [
        "Here you can see image with its original and predicted label."
      ]
    },
    {
      "cell_type": "markdown",
      "metadata": {
        "id": "MaAbK0hZPFGF"
      },
      "source": [
        "## Conclusion:"
      ]
    },
    {
      "cell_type": "markdown",
      "metadata": {
        "id": "UItQLYGyPNAO"
      },
      "source": [
        "We started with downloading the dataset creating the model and finding out the predictions using the model. We can optimize different hyper parameters in order to tune this model for a higher accuracy. This model can be used to predict different breeds of dogs which can be further used by different NGO's working on saving animals and for educational purposes also."
      ]
    },
    {
      "cell_type": "code",
      "metadata": {
        "id": "Y9hIc_hzQDoB"
      },
      "source": [
        ""
      ],
      "execution_count": null,
      "outputs": []
    }
  ]
}
